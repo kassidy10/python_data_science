{
 "cells": [
  {
   "cell_type": "code",
   "execution_count": 2,
   "metadata": {},
   "outputs": [],
   "source": [
    "#import numpy\n",
    "import numpy as np"
   ]
  },
  {
   "cell_type": "code",
   "execution_count": 3,
   "metadata": {},
   "outputs": [],
   "source": [
    "#sample data used is 44 U.S president heights in centimeters in chronological order and stored them in a list, a built-in data type in python\n",
    "\n",
    "heights = [189,170,189,163,183,171,185,168,173,183,173,173,175,178,183,193,178,173,174,183,183,180,170,178,182,180,183,178,182,175,179,183,193,182,183,177,185,188,188,188,185,191,158,135]"
   ]
  },
  {
   "cell_type": "code",
   "execution_count": 4,
   "metadata": {},
   "outputs": [
    {
     "data": {
      "text/plain": [
       "5"
      ]
     },
     "execution_count": 4,
     "metadata": {},
     "output_type": "execute_result"
    }
   ],
   "source": [
    "#simple code to know the numbers of presidents that are taller than 188cm, we could iterate through the list compare each element against 188, and increase the count by 1 as the criteria is met [ this is vanilla python -> not using the module numpy]\n",
    "\n",
    "#assigning 0 to a variable\n",
    "cnt = 0\n",
    "#iterating through the list\n",
    "for height in heights:\n",
    "#setting a criteria comparing each element against 188 to see if the list is greater than 188. if True, increment the variable by 1\n",
    "    if height > 188:\n",
    "        cnt += 1\n",
    "cnt\n",
    "#output shows that there are 5 presidents that are taller than 188cm"
   ]
  },
  {
   "cell_type": "code",
   "execution_count": 5,
   "metadata": {},
   "outputs": [
    {
     "data": {
      "text/plain": [
       "5"
      ]
     },
     "execution_count": 5,
     "metadata": {},
     "output_type": "execute_result"
    }
   ],
   "source": [
    "#now using numpy to perform the same task\n",
    "heights_arr = np.array(heights)\n",
    "(heights_arr > 188).sum()"
   ]
  },
  {
   "cell_type": "code",
   "execution_count": 6,
   "metadata": {},
   "outputs": [
    {
     "data": {
      "text/plain": [
       "array([189, 170, 189, 163, 183, 171, 185, 168, 173, 183, 173, 173, 175,\n",
       "       178, 183, 193, 178, 173, 174, 183, 183, 180, 170, 178, 182, 180,\n",
       "       183, 178, 182, 175, 179, 183, 193, 182, 183, 177, 185, 188, 188,\n",
       "       188, 185, 191, 158, 135,  57,  61,  57,  57,  58,  57,  57,  61,\n",
       "        54,  68,  51,  49,  64,  50,  48,  65,  52,  56,  46,  54,  49,\n",
       "        51,  47,  55,  55,  54,  42,  51,  56,  55,  51,  54,  51,  60,\n",
       "        62,  43,  55,  56,  61,  52,  69,  64,  46,  54])"
      ]
     },
     "execution_count": 6,
     "metadata": {},
     "output_type": "execute_result"
    }
   ],
   "source": [
    "#Reshape\n",
    "\n",
    "#other data we have collected includes the ages of the presidents\n",
    "ages = [ 57,61,57,57,58, 57, 57, 61, 54, 68, 51, 49, 64, 50, 48, 65, 52, 56, 46, 54, 49, 51, 47, 55, 55, 54, 42, 51, 56, 55, 51, 54, 51, 60, 62, 43, 55, 56, 61, 52, 69, 64, 46, 54 ]\n",
    "\n",
    "ages_arr = np.array(ages)\n",
    "\n",
    "#since both heights and ages are all about the same presidents, we can combine them:\n",
    "heights_and_ages = heights + ages\n",
    "heights_and_ages_arr = np.array(heights_and_ages)\n",
    "heights_and_ages_arr\n"
   ]
  },
  {
   "cell_type": "code",
   "execution_count": 8,
   "metadata": {},
   "outputs": [
    {
     "data": {
      "text/plain": [
       "array([[189, 170, 189, 163, 183, 171, 185, 168, 173, 183, 173, 173, 175,\n",
       "        178, 183, 193, 178, 173, 174, 183, 183, 180, 170, 178, 182, 180,\n",
       "        183, 178, 182, 175, 179, 183, 193, 182, 183, 177, 185, 188, 188,\n",
       "        188, 185, 191, 158, 135],\n",
       "       [ 57,  61,  57,  57,  58,  57,  57,  61,  54,  68,  51,  49,  64,\n",
       "         50,  48,  65,  52,  56,  46,  54,  49,  51,  47,  55,  55,  54,\n",
       "         42,  51,  56,  55,  51,  54,  51,  60,  62,  43,  55,  56,  61,\n",
       "         52,  69,  64,  46,  54]])"
      ]
     },
     "execution_count": 8,
     "metadata": {},
     "output_type": "execute_result"
    }
   ],
   "source": [
    "#shape() and Reshape\n",
    "#numpy arrays have an attribute called shape that returns a tuple with each index having the number of corresponding elements\n",
    "\n",
    "heights_and_ages_arr.shape\n",
    "\n",
    "#the reshape() function is used to change the shape of the numpy array without modifying the array data\n",
    "\n",
    "#let us align height and age for each president and reorganize the data into 2 by 44 matrix where the first row contains all heights and the second row contains ages\n",
    "\n",
    "heights_and_ages_arr = heights_and_ages_arr.reshape((2,44))\n",
    "heights_and_ages_arr\n",
    "\n",
    "\n",
    "#the reshaped array is now a 2darray, yet not that the original array is not changed. we can reshape an array in multiple ways, as long as the size of teh reshaped array matches that of the original array"
   ]
  },
  {
   "cell_type": "code",
   "execution_count": 64,
   "metadata": {},
   "outputs": [
    {
     "data": {
      "text/plain": [
       "dtype('int64')"
      ]
     },
     "execution_count": 64,
     "metadata": {},
     "output_type": "execute_result"
    }
   ],
   "source": [
    "#Data Type\n",
    "#another characteristics about numpy array is that it is homogenous, meaning each element must be of the same data type\n",
    "\n",
    "#for example, in heights_arr, we recorded all heights in whole numbers, thus ech element is stored as an integer in the array. to check the data type, use numpy.ndarray.dtype\n",
    "\n",
    "heights_arr.dtype"
   ]
  },
  {
   "cell_type": "code",
   "execution_count": 65,
   "metadata": {},
   "outputs": [],
   "source": [
    "#if we mixed a float number in, say, the first element is 189.0 instead of 189\n",
    "\n",
    "heights_float = [189.0,170,189,163,183,171,185,168,173,183,173,173,175,178,183,193,178,173,174,183,183,180,170,178,182,180,183,178,182,175,179,183,193,182,183,177,185,188,188,188,185,191]"
   ]
  },
  {
   "cell_type": "code",
   "execution_count": 66,
   "metadata": {},
   "outputs": [
    {
     "data": {
      "text/plain": [
       "dtype('float64')"
      ]
     },
     "execution_count": 66,
     "metadata": {},
     "output_type": "execute_result"
    }
   ],
   "source": [
    "heights_float_arr = np.array(heights_float)\n",
    "heights_float_arr\n",
    "heights_float_arr.dtype\n",
    "\n",
    "#if the first element is a float, all the other elements will be converted to floats. this shows the homogenous feature of numpy"
   ]
  },
  {
   "cell_type": "code",
   "execution_count": 67,
   "metadata": {},
   "outputs": [
    {
     "data": {
      "text/plain": [
       "array([189, 170, 189, 165, 183, 171, 185, 168, 173, 183, 173, 173, 175,\n",
       "       178, 183, 193, 178, 173, 174, 183, 183, 180, 170, 178, 182, 180,\n",
       "       183, 178, 182, 175, 179, 183, 193, 182, 183, 177, 185, 188, 188,\n",
       "       188, 185, 191, 158, 135])"
      ]
     },
     "execution_count": 67,
     "metadata": {},
     "output_type": "execute_result"
    }
   ],
   "source": [
    "#Assigning Single Values\n",
    "#Sometimes you need to change the values of particular elements in the array. For example, we noticed the fourth entry in the heights_arr was incorrect, it should be 165 instead of 163, we can re-assign the correct number by:\n",
    "\n",
    "heights_arr[3] = 165\n",
    "heights_arr"
   ]
  },
  {
   "cell_type": "code",
   "execution_count": 68,
   "metadata": {},
   "outputs": [
    {
     "data": {
      "text/plain": [
       "array([[189, 170, 189, 165, 183, 171, 185, 168, 173, 183, 173, 173, 175,\n",
       "        178, 183, 193, 178, 173, 174, 183, 183, 180, 170, 178, 182, 180,\n",
       "        183, 178, 182, 175, 179, 183, 193, 182, 183, 177, 185, 188, 188,\n",
       "        188, 185, 191, 158, 135],\n",
       "       [ 57,  61,  57,  57,  58,  57,  57,  61,  54,  68,  51,  49,  64,\n",
       "         50,  48,  65,  52,  56,  46,  54,  49,  51,  47,  55,  55,  54,\n",
       "         42,  51,  56,  55,  51,  54,  51,  60,  62,  43,  55,  56,  61,\n",
       "         52,  69,  64,  46,  54]])"
      ]
     },
     "execution_count": 68,
     "metadata": {},
     "output_type": "execute_result"
    }
   ],
   "source": [
    "#in a 2darray, single values can be assigned easily, YOu can use indexing for one element, for example, change the fourth entry in heights_and_ages_arr to 165\n",
    "\n",
    "heights_and_ages_arr[0,3] = 165\n",
    "heights_and_ages_arr"
   ]
  },
  {
   "cell_type": "code",
   "execution_count": 69,
   "metadata": {},
   "outputs": [
    {
     "data": {
      "text/plain": [
       "array([[180, 180, 180, 180, 180, 180, 180, 180, 180, 180, 180, 180, 180,\n",
       "        180, 180, 180, 180, 180, 180, 180, 180, 180, 180, 180, 180, 180,\n",
       "        180, 180, 180, 180, 180, 180, 180, 180, 180, 180, 180, 180, 180,\n",
       "        180, 180, 180, 180, 180],\n",
       "       [ 57,  61,  57,  57,  58,  57,  57,  61,  54,  68,  51,  49,  64,\n",
       "         50,  48,  65,  52,  56,  46,  54,  49,  51,  47,  55,  55,  54,\n",
       "         42,  51,  56,  55,  51,  54,  51,  60,  62,  43,  55,  56,  61,\n",
       "         52,  69,  64,  46,  54]])"
      ]
     },
     "execution_count": 69,
     "metadata": {},
     "output_type": "execute_result"
    }
   ],
   "source": [
    "# we can use slicing for multiple elements. for example, to replace the first row by its mean 180 in heights_and_ages_arr\n",
    "heights_and_ages_arr[0,:] = 180\n",
    "heights_and_ages_arr\n",
    "\n",
    "#this replaces all the list of elements with a single digit 180"
   ]
  },
  {
   "cell_type": "code",
   "execution_count": 70,
   "metadata": {},
   "outputs": [
    {
     "data": {
      "text/plain": [
       "array([[180, 180],\n",
       "       [ 57,  61]])"
      ]
     },
     "execution_count": 70,
     "metadata": {},
     "output_type": "execute_result"
    }
   ],
   "source": [
    "#we can also combine slicing to change any subset of the array. for example to reassign 0 to the left upper corner:\n",
    "\n",
    "heights_and_ages_arr[:2,:2]\n",
    "#this picks the first two elements of both lists"
   ]
  },
  {
   "cell_type": "code",
   "execution_count": 71,
   "metadata": {},
   "outputs": [],
   "source": [
    "#Assigning an array to an array\n",
    "#in addition, a 1darray or 2darry can be assigned to a subset of another 2darray, as long as their shapes match.\n",
    "\n",
    "heights_and_ages_arr\n",
    "#update the array back to its default values\n",
    "heights_and_ages_arr[0,:] = heights_arr\n",
    "\n",
    "heights_and_ages_arr[:,0] = [190,58]"
   ]
  },
  {
   "cell_type": "code",
   "execution_count": 97,
   "metadata": {},
   "outputs": [],
   "source": [
    "#Combining two arrays\n",
    "#oftentime we combine data stored in different arrays and we need to combine them into one to keep it in one place. For example, instead of having the ages stored in a list, it could be stored in a 2darray:\n",
    "\n",
    "heights_arr = heights_arr.reshape((1,44))\n",
    "ages_arr = ages_arr.reshape((1,44))"
   ]
  },
  {
   "cell_type": "code",
   "execution_count": 99,
   "metadata": {},
   "outputs": [
    {
     "data": {
      "text/plain": [
       "array([[57, 61, 57, 57, 58, 57, 57, 61, 54, 68, 51, 49, 64, 50, 48, 65,\n",
       "        52, 56, 46, 54, 49, 51, 47, 55, 55, 54, 42, 51, 56, 55, 51, 54,\n",
       "        51, 60, 62, 43, 55, 56, 61, 52, 69, 64, 46, 54]])"
      ]
     },
     "execution_count": 99,
     "metadata": {},
     "output_type": "execute_result"
    }
   ],
   "source": [
    "ages_arr"
   ]
  },
  {
   "cell_type": "code",
   "execution_count": 100,
   "metadata": {},
   "outputs": [
    {
     "data": {
      "text/plain": [
       "array([[189, 170, 189, 165, 183, 171, 185, 168, 173, 183, 173, 173, 175,\n",
       "        178, 183, 193, 178, 173, 174, 183, 183, 180, 170, 178, 182, 180,\n",
       "        183, 178, 182, 175, 179, 183, 193, 182, 183, 177, 185, 188, 188,\n",
       "        188, 185, 191, 158, 135]])"
      ]
     },
     "execution_count": 100,
     "metadata": {},
     "output_type": "execute_result"
    }
   ],
   "source": [
    "heights_arr"
   ]
  },
  {
   "cell_type": "code",
   "execution_count": 101,
   "metadata": {},
   "outputs": [
    {
     "data": {
      "text/plain": [
       "array([[189, 170, 189, 165, 183, 171, 185, 168, 173, 183, 173, 173, 175,\n",
       "        178, 183, 193, 178, 173, 174, 183, 183, 180, 170, 178, 182, 180,\n",
       "        183, 178, 182, 175, 179, 183, 193, 182, 183, 177, 185, 188, 188,\n",
       "        188, 185, 191, 158, 135,  57,  61,  57,  57,  58,  57,  57,  61,\n",
       "         54,  68,  51,  49,  64,  50,  48,  65,  52,  56,  46,  54,  49,\n",
       "         51,  47,  55,  55,  54,  42,  51,  56,  55,  51,  54,  51,  60,\n",
       "         62,  43,  55,  56,  61,  52,  69,  64,  46,  54]])"
      ]
     },
     "execution_count": 101,
     "metadata": {},
     "output_type": "execute_result"
    }
   ],
   "source": [
    "height_age_arr = np.hstack((heights_arr, ages_arr))\n",
    "height_age_arr"
   ]
  },
  {
   "cell_type": "code",
   "execution_count": 102,
   "metadata": {},
   "outputs": [
    {
     "data": {
      "text/plain": [
       "array([[189, 170, 189, 165, 183, 171, 185, 168, 173, 183, 173, 173, 175,\n",
       "        178, 183, 193, 178, 173, 174, 183, 183, 180, 170, 178, 182, 180,\n",
       "        183, 178, 182, 175, 179, 183, 193, 182, 183, 177, 185, 188, 188,\n",
       "        188, 185, 191, 158, 135],\n",
       "       [ 57,  61,  57,  57,  58,  57,  57,  61,  54,  68,  51,  49,  64,\n",
       "         50,  48,  65,  52,  56,  46,  54,  49,  51,  47,  55,  55,  54,\n",
       "         42,  51,  56,  55,  51,  54,  51,  60,  62,  43,  55,  56,  61,\n",
       "         52,  69,  64,  46,  54]])"
      ]
     },
     "execution_count": 102,
     "metadata": {},
     "output_type": "execute_result"
    }
   ],
   "source": [
    "height_age_arr = np.vstack((heights_arr, ages_arr))\n",
    "height_age_arr"
   ]
  },
  {
   "cell_type": "code",
   "execution_count": 103,
   "metadata": {},
   "outputs": [
    {
     "data": {
      "text/plain": [
       "array([[189, 170, 189, 165, 183, 171, 185, 168, 173, 183, 173, 173, 175,\n",
       "        178, 183, 193, 178, 173, 174, 183, 183, 180, 170, 178, 182, 180,\n",
       "        183, 178, 182, 175, 179, 183, 193, 182, 183, 177, 185, 188, 188,\n",
       "        188, 185, 191, 158, 135,  57,  61,  57,  57,  58,  57,  57,  61,\n",
       "         54,  68,  51,  49,  64,  50,  48,  65,  52,  56,  46,  54,  49,\n",
       "         51,  47,  55,  55,  54,  42,  51,  56,  55,  51,  54,  51,  60,\n",
       "         62,  43,  55,  56,  61,  52,  69,  64,  46,  54]])"
      ]
     },
     "execution_count": 103,
     "metadata": {},
     "output_type": "execute_result"
    }
   ],
   "source": [
    "#concatenate\n",
    "#more generally, we can use the function numpy.concatenate. if we want to concatenate, link together, two arrays along rows, then pss 'axis = 1' to achieve the same result as using numpy.hstack; and pass 'axis=0' if you want to combine arrays vertically\n",
    "\n",
    "#in the previous example, we were using hstack to combine two arrays horizontally, instead:\n",
    "\n",
    "height_age_arr = np.concatenate((heights_arr, ages_arr), axis = 1)\n",
    "height_age_arr"
   ]
  },
  {
   "cell_type": "code",
   "execution_count": 104,
   "metadata": {},
   "outputs": [
    {
     "data": {
      "text/plain": [
       "array([[189, 170, 189, 165, 183, 171, 185, 168, 173, 183, 173, 173, 175,\n",
       "        178, 183, 193, 178, 173, 174, 183, 183, 180, 170, 178, 182, 180,\n",
       "        183, 178, 182, 175, 179, 183, 193, 182, 183, 177, 185, 188, 188,\n",
       "        188, 185, 191, 158, 135],\n",
       "       [ 57,  61,  57,  57,  58,  57,  57,  61,  54,  68,  51,  49,  64,\n",
       "         50,  48,  65,  52,  56,  46,  54,  49,  51,  47,  55,  55,  54,\n",
       "         42,  51,  56,  55,  51,  54,  51,  60,  62,  43,  55,  56,  61,\n",
       "         52,  69,  64,  46,  54]])"
      ]
     },
     "execution_count": 104,
     "metadata": {},
     "output_type": "execute_result"
    }
   ],
   "source": [
    "height_age_arr = np.concatenate((heights_arr, ages_arr), axis = 0)\n",
    "height_age_arr"
   ]
  },
  {
   "cell_type": "code",
   "execution_count": 114,
   "metadata": {},
   "outputs": [
    {
     "ename": "AttributeError",
     "evalue": "'tuple' object has no attribute 'split'",
     "output_type": "error",
     "traceback": [
      "\u001b[0;31m---------------------------------------------------------------------------\u001b[0m",
      "\u001b[0;31mAttributeError\u001b[0m                            Traceback (most recent call last)",
      "\u001b[1;32m/media/viktor/ANTON/code/python code tuts/numpyTuts.ipynb Cell 22'\u001b[0m in \u001b[0;36m<cell line: 2>\u001b[0;34m()\u001b[0m\n\u001b[1;32m      <a href='vscode-notebook-cell:/media/viktor/ANTON/code/python%20code%20tuts/numpyTuts.ipynb#ch0000027?line=0'>1</a>\u001b[0m num \u001b[39m=\u001b[39m \u001b[39m12\u001b[39m,\u001b[39m13\u001b[39m,\u001b[39m15\u001b[39m,\u001b[39m12\u001b[39m\n\u001b[0;32m----> <a href='vscode-notebook-cell:/media/viktor/ANTON/code/python%20code%20tuts/numpyTuts.ipynb#ch0000027?line=1'>2</a>\u001b[0m num1 \u001b[39m=\u001b[39m \u001b[39mint\u001b[39m(num\u001b[39m.\u001b[39;49msplit())\n\u001b[1;32m      <a href='vscode-notebook-cell:/media/viktor/ANTON/code/python%20code%20tuts/numpyTuts.ipynb#ch0000027?line=2'>3</a>\u001b[0m num1\n",
      "\u001b[0;31mAttributeError\u001b[0m: 'tuple' object has no attribute 'split'"
     ]
    }
   ],
   "source": [
    "import numpy as np\n",
    "\n",
    "n,p = [int(x) for x in input().split()]\n",
    "lista = []\n",
    "for i in range(n):\n",
    "    lista.append(input().split())\n",
    "print(np.array(lista)astype(np.float16).mean(axis = 1).round(2))"
   ]
  },
  {
   "cell_type": "code",
   "execution_count": null,
   "metadata": {},
   "outputs": [],
   "source": []
  }
 ],
 "metadata": {
  "interpreter": {
   "hash": "916dbcbb3f70747c44a77c7bcd40155683ae19c65e1c03b4aa3499c5328201f1"
  },
  "kernelspec": {
   "display_name": "Python 3.10.4 64-bit",
   "language": "python",
   "name": "python3"
  },
  "language_info": {
   "codemirror_mode": {
    "name": "ipython",
    "version": 3
   },
   "file_extension": ".py",
   "mimetype": "text/x-python",
   "name": "python",
   "nbconvert_exporter": "python",
   "pygments_lexer": "ipython3",
   "version": "3.10.4"
  },
  "orig_nbformat": 4
 },
 "nbformat": 4,
 "nbformat_minor": 2
}
