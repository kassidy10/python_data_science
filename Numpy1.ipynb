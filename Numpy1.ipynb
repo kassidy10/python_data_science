{
 "cells": [
  {
   "cell_type": "code",
   "execution_count": 1,
   "metadata": {},
   "outputs": [],
   "source": [
    "import numpy as np"
   ]
  },
  {
   "cell_type": "code",
   "execution_count": 3,
   "metadata": {},
   "outputs": [],
   "source": [
    "heights = [189,170,189,163,183,171,185,168,173,183,173,173,175,178,183,193,178,173,174,183,183,180,170,178,182,180,183,178,182,175,179,183,193,182,183,177,185,188,188,188,185,191]"
   ]
  },
  {
   "cell_type": "code",
   "execution_count": 4,
   "metadata": {},
   "outputs": [
    {
     "name": "stdout",
     "output_type": "stream",
     "text": [
      "5\n"
     ]
    }
   ],
   "source": [
    "cnt = 0\n",
    "for height in heights:\n",
    "    if height > 188:\n",
    "        cnt += 1\n",
    "print(cnt)"
   ]
  },
  {
   "cell_type": "code",
   "execution_count": 5,
   "metadata": {},
   "outputs": [
    {
     "name": "stdout",
     "output_type": "stream",
     "text": [
      "5\n"
     ]
    }
   ],
   "source": [
    "heights_arr = np.array(heights)\n",
    "print((heights_arr > 188).sum())"
   ]
  },
  {
   "cell_type": "code",
   "execution_count": 6,
   "metadata": {},
   "outputs": [],
   "source": [
    "ages = [ 57,61,57,57,58, 57, 57, 61, 54, 68, 51, 49, 64, 50, 48, 65, 52, 56, 46, 54, 49, 51, 47, 55, 55, 54, 42, 51, 56, 55, 51, 54, 51, 60, 62, 43, 55, 56, 61, 52, 69, 64, 46, 54, 47, 70]"
   ]
  },
  {
   "cell_type": "code",
   "execution_count": 8,
   "metadata": {},
   "outputs": [
    {
     "name": "stdout",
     "output_type": "stream",
     "text": [
      "[189, 170, 189, 163, 183, 171, 185, 168, 173, 183, 173, 173, 175, 178, 183, 193, 178, 173, 174, 183, 183, 180, 170, 178, 182, 180, 183, 178, 182, 175, 179, 183, 193, 182, 183, 177, 185, 188, 188, 188, 185, 191, 57, 61, 57, 57, 58, 57, 57, 61, 54, 68, 51, 49, 64, 50, 48, 65, 52, 56, 46, 54, 49, 51, 47, 55, 55, 54, 42, 51, 56, 55, 51, 54, 51, 60, 62, 43, 55, 56, 61, 52, 69, 64, 46, 54, 47, 70]\n"
     ]
    }
   ],
   "source": [
    "heights_and_ages = heights + ages\n",
    "print(heights_and_ages)"
   ]
  },
  {
   "cell_type": "code",
   "execution_count": 9,
   "metadata": {},
   "outputs": [
    {
     "data": {
      "text/plain": [
       "(88,)"
      ]
     },
     "execution_count": 9,
     "metadata": {},
     "output_type": "execute_result"
    }
   ],
   "source": [
    "heights_and_ages_arr = np.array(heights_and_ages)\n",
    "heights_and_ages_arr.shape"
   ]
  },
  {
   "cell_type": "code",
   "execution_count": 11,
   "metadata": {},
   "outputs": [
    {
     "data": {
      "text/plain": [
       "array([[189, 170, 189, 163, 183, 171, 185, 168, 173, 183, 173, 173, 175,\n",
       "        178, 183, 193, 178, 173, 174, 183, 183, 180, 170, 178, 182, 180,\n",
       "        183, 178, 182, 175, 179, 183, 193, 182, 183, 177, 185, 188, 188,\n",
       "        188, 185, 191,  57,  61],\n",
       "       [ 57,  57,  58,  57,  57,  61,  54,  68,  51,  49,  64,  50,  48,\n",
       "         65,  52,  56,  46,  54,  49,  51,  47,  55,  55,  54,  42,  51,\n",
       "         56,  55,  51,  54,  51,  60,  62,  43,  55,  56,  61,  52,  69,\n",
       "         64,  46,  54,  47,  70]])"
      ]
     },
     "execution_count": 11,
     "metadata": {},
     "output_type": "execute_result"
    }
   ],
   "source": [
    "heights_and_ages_arr.reshape((2,44))"
   ]
  },
  {
   "cell_type": "code",
   "execution_count": 12,
   "metadata": {},
   "outputs": [
    {
     "data": {
      "text/plain": [
       "189"
      ]
     },
     "execution_count": 12,
     "metadata": {},
     "output_type": "execute_result"
    }
   ],
   "source": [
    "heights_arr[2]"
   ]
  },
  {
   "cell_type": "code",
   "execution_count": 14,
   "metadata": {},
   "outputs": [
    {
     "ename": "IndexError",
     "evalue": "too many indices for array: array is 1-dimensional, but 2 were indexed",
     "output_type": "error",
     "traceback": [
      "\u001b[0;31m---------------------------------------------------------------------------\u001b[0m",
      "\u001b[0;31mIndexError\u001b[0m                                Traceback (most recent call last)",
      "\u001b[1;32mUntitled-1.ipynb Cell 10'\u001b[0m in \u001b[0;36m<cell line: 1>\u001b[0;34m()\u001b[0m\n\u001b[0;32m----> <a href='vscode-notebook-cell:Untitled-1.ipynb?jupyter-notebook#ch0000009untitled?line=0'>1</a>\u001b[0m heights_and_ages_arr[\u001b[39m0\u001b[39;49m,\u001b[39m1\u001b[39;49m]\n",
      "\u001b[0;31mIndexError\u001b[0m: too many indices for array: array is 1-dimensional, but 2 were indexed"
     ]
    }
   ],
   "source": [
    "heights_and_ages_arr[0,1]"
   ]
  },
  {
   "cell_type": "code",
   "execution_count": 15,
   "metadata": {},
   "outputs": [
    {
     "data": {
      "text/plain": [
       "array([189, 170, 189, 163, 183, 171, 185, 168, 173, 183, 173, 173, 175,\n",
       "       178, 183, 193, 178, 173, 174, 183, 183, 180, 170, 178, 182, 180,\n",
       "       183, 178, 182, 175, 179, 183, 193, 182, 183, 177, 185, 188, 188,\n",
       "       188, 185, 191,  57,  61,  57,  57,  58,  57,  57,  61,  54,  68,\n",
       "        51,  49,  64,  50,  48,  65,  52,  56,  46,  54,  49,  51,  47,\n",
       "        55,  55,  54,  42,  51,  56,  55,  51,  54,  51,  60,  62,  43,\n",
       "        55,  56,  61,  52,  69,  64,  46,  54,  47,  70])"
      ]
     },
     "execution_count": 15,
     "metadata": {},
     "output_type": "execute_result"
    }
   ],
   "source": [
    "heights_and_ages_arr"
   ]
  },
  {
   "cell_type": "code",
   "execution_count": 16,
   "metadata": {},
   "outputs": [],
   "source": [
    "height_and_ages_arr = heights_and_ages_arr.reshape((2,44))"
   ]
  },
  {
   "cell_type": "code",
   "execution_count": 19,
   "metadata": {},
   "outputs": [
    {
     "data": {
      "text/plain": [
       "170"
      ]
     },
     "execution_count": 19,
     "metadata": {},
     "output_type": "execute_result"
    }
   ],
   "source": [
    "height_and_ages_arr[0,1]"
   ]
  },
  {
   "cell_type": "code",
   "execution_count": 18,
   "metadata": {},
   "outputs": [
    {
     "data": {
      "text/plain": [
       "array([[189, 170, 189, 163, 183, 171, 185, 168, 173, 183, 173, 173, 175,\n",
       "        178, 183, 193, 178, 173, 174, 183, 183, 180, 170, 178, 182, 180,\n",
       "        183, 178, 182, 175, 179, 183, 193, 182, 183, 177, 185, 188, 188,\n",
       "        188, 185, 191,  57,  61],\n",
       "       [ 57,  57,  58,  57,  57,  61,  54,  68,  51,  49,  64,  50,  48,\n",
       "         65,  52,  56,  46,  54,  49,  51,  47,  55,  55,  54,  42,  51,\n",
       "         56,  55,  51,  54,  51,  60,  62,  43,  55,  56,  61,  52,  69,\n",
       "         64,  46,  54,  47,  70]])"
      ]
     },
     "execution_count": 18,
     "metadata": {},
     "output_type": "execute_result"
    }
   ],
   "source": [
    "height_and_ages_arr"
   ]
  },
  {
   "cell_type": "code",
   "execution_count": 20,
   "metadata": {},
   "outputs": [
    {
     "data": {
      "text/plain": [
       "array([189, 170, 189])"
      ]
     },
     "execution_count": 20,
     "metadata": {},
     "output_type": "execute_result"
    }
   ],
   "source": [
    "#this extracts the 1st row and 1st to the 3rd column\n",
    "height_and_ages_arr[0,0:3]"
   ]
  },
  {
   "cell_type": "code",
   "execution_count": 21,
   "metadata": {},
   "outputs": [
    {
     "data": {
      "text/plain": [
       "array([189, 170, 189])"
      ]
     },
     "execution_count": 21,
     "metadata": {},
     "output_type": "execute_result"
    }
   ],
   "source": [
    "#same with the one above\n",
    "height_and_ages_arr[0,:3]"
   ]
  },
  {
   "cell_type": "code",
   "execution_count": 27,
   "metadata": {},
   "outputs": [],
   "source": [
    "height_and_ages_arr = heights_and_ages_arr.reshape((2,44))"
   ]
  },
  {
   "cell_type": "code",
   "execution_count": 29,
   "metadata": {},
   "outputs": [
    {
     "data": {
      "text/plain": [
       "array([189, 170, 189, 163, 183, 171, 185, 168, 173, 183, 173, 173, 175,\n",
       "       178, 183, 193, 178, 173, 174, 183, 183, 180, 170, 178, 182, 180,\n",
       "       183, 178, 182, 175, 179, 183, 193, 182, 183, 177, 185, 188, 188,\n",
       "       188, 185, 191,  57,  61,  57,  57,  58,  57,  57,  61,  54,  68,\n",
       "        51,  49,  64,  50,  48,  65,  52,  56,  46,  54,  49,  51,  47,\n",
       "        55,  55,  54,  42,  51,  56,  55,  51,  54,  51,  60,  62,  43,\n",
       "        55,  56,  61,  52,  69,  64,  46,  54,  47,  70])"
      ]
     },
     "execution_count": 29,
     "metadata": {},
     "output_type": "execute_result"
    }
   ],
   "source": [
    "heights_and_ages_arr"
   ]
  },
  {
   "cell_type": "code",
   "execution_count": 30,
   "metadata": {},
   "outputs": [
    {
     "data": {
      "text/plain": [
       "array([[189, 170, 189, 163, 183, 171, 185, 168, 173, 183, 173, 173, 175,\n",
       "        178, 183, 193, 178, 173, 174, 183, 183, 180, 170, 178, 182, 180,\n",
       "        183, 178, 182, 175, 179, 183, 193, 182, 183, 177, 185, 188, 188,\n",
       "        188, 185, 191,  57,  61],\n",
       "       [ 57,  57,  58,  57,  57,  61,  54,  68,  51,  49,  64,  50,  48,\n",
       "         65,  52,  56,  46,  54,  49,  51,  47,  55,  55,  54,  42,  51,\n",
       "         56,  55,  51,  54,  51,  60,  62,  43,  55,  56,  61,  52,  69,\n",
       "         64,  46,  54,  47,  70]])"
      ]
     },
     "execution_count": 30,
     "metadata": {},
     "output_type": "execute_result"
    }
   ],
   "source": [
    "height_and_ages_arr"
   ]
  },
  {
   "cell_type": "code",
   "execution_count": 31,
   "metadata": {},
   "outputs": [
    {
     "data": {
      "text/plain": [
       "array([163,  57])"
      ]
     },
     "execution_count": 31,
     "metadata": {},
     "output_type": "execute_result"
    }
   ],
   "source": [
    "height_and_ages_arr[:,3]"
   ]
  },
  {
   "cell_type": "code",
   "execution_count": 32,
   "metadata": {},
   "outputs": [
    {
     "data": {
      "text/plain": [
       "163"
      ]
     },
     "execution_count": 32,
     "metadata": {},
     "output_type": "execute_result"
    }
   ],
   "source": [
    "heights_and_ages_arr[3]"
   ]
  },
  {
   "cell_type": "code",
   "execution_count": 40,
   "metadata": {},
   "outputs": [],
   "source": [
    "height_and_ages_arr = heights_and_ages_arr.reshape((2,44))"
   ]
  },
  {
   "cell_type": "code",
   "execution_count": 41,
   "metadata": {},
   "outputs": [
    {
     "data": {
      "text/plain": [
       "array([189, 170, 189, 163, 183, 171, 185, 168, 173, 183, 173, 173, 175,\n",
       "       178, 183, 193, 178, 173, 174, 183, 183, 180, 170, 178, 182, 180,\n",
       "       183, 178, 182, 175, 179, 183, 193, 182, 183, 177, 185, 188, 188,\n",
       "       188, 185, 191,  57,  61,  57,  57,  58,  57,  57,  61,  54,  68,\n",
       "        51,  49,  64,  50,  48,  65,  52,  56,  46,  54,  49,  51,  47,\n",
       "        55,  55,  54,  42,  51,  56,  55,  51,  54,  51,  60,  62,  43,\n",
       "        55,  56,  61,  52,  69,  64,  46,  54,  47,  70])"
      ]
     },
     "execution_count": 41,
     "metadata": {},
     "output_type": "execute_result"
    }
   ],
   "source": [
    "heights_and_ages_arr"
   ]
  },
  {
   "cell_type": "code",
   "execution_count": 42,
   "metadata": {},
   "outputs": [
    {
     "data": {
      "text/plain": [
       "array([[189, 170, 189, 163, 183, 171, 185, 168, 173, 183, 173, 173, 175,\n",
       "        178, 183, 193, 178, 173, 174, 183, 183, 180, 170, 178, 182, 180,\n",
       "        183, 178, 182, 175, 179, 183, 193, 182, 183, 177, 185, 188, 188,\n",
       "        188, 185, 191,  57,  61],\n",
       "       [ 57,  57,  58,  57,  57,  61,  54,  68,  51,  49,  64,  50,  48,\n",
       "         65,  52,  56,  46,  54,  49,  51,  47,  55,  55,  54,  42,  51,\n",
       "         56,  55,  51,  54,  51,  60,  62,  43,  55,  56,  61,  52,  69,\n",
       "         64,  46,  54,  47,  70]])"
      ]
     },
     "execution_count": 42,
     "metadata": {},
     "output_type": "execute_result"
    }
   ],
   "source": [
    "height_and_ages_arr"
   ]
  },
  {
   "cell_type": "code",
   "execution_count": 46,
   "metadata": {},
   "outputs": [
    {
     "data": {
      "text/plain": [
       "array([189, 170, 189, 163, 183, 171, 185, 168, 173, 183, 173, 173, 175,\n",
       "       178, 183, 193, 178, 173, 174, 183, 183, 180, 170, 178, 182, 180,\n",
       "       183, 178, 182, 175, 179, 183, 193, 182, 183, 177, 185, 188, 188,\n",
       "       188, 185, 191,  57,  61,  57,  57,  58,  57,  57,  61,  54,  68,\n",
       "        51,  49,  64,  50,  48,  65,  52,  56,  46,  54,  49,  51,  47,\n",
       "        55,  55,  54,  42,  51,  56,  55,  51,  54,  51,  60,  62,  43,\n",
       "        55,  56,  61,  52,  69,  64,  46,  54,  47,  70])"
      ]
     },
     "execution_count": 46,
     "metadata": {},
     "output_type": "execute_result"
    }
   ],
   "source": [
    "heights_and_ages_arr"
   ]
  },
  {
   "cell_type": "code",
   "execution_count": 39,
   "metadata": {},
   "outputs": [
    {
     "data": {
      "text/plain": [
       "array([189, 170, 189, 163, 183, 171, 185, 168, 173, 183, 173, 173, 175,\n",
       "       178, 183, 193, 178, 173, 174, 183, 183, 180, 170, 178, 182, 180,\n",
       "       183, 178, 182, 175, 179, 183, 193, 182, 183, 177, 185, 188, 188,\n",
       "       188, 185, 191,  57,  61,  57,  57,  58,  57,  57,  61,  54,  68,\n",
       "        51,  49,  64,  50,  48,  65,  52,  56,  46,  54,  49,  51,  47,\n",
       "        55,  55,  54,  42,  51,  56,  55,  51,  54,  51,  60,  62,  43,\n",
       "        55,  56,  61,  52,  69,  64,  46,  54,  47,  70])"
      ]
     },
     "execution_count": 39,
     "metadata": {},
     "output_type": "execute_result"
    }
   ],
   "source": [
    "heights_and_ages_arr"
   ]
  },
  {
   "cell_type": "code",
   "execution_count": 47,
   "metadata": {},
   "outputs": [],
   "source": [
    "height_and_ages_arr = heights_and_ages_arr.reshape((2,44))"
   ]
  },
  {
   "cell_type": "code",
   "execution_count": 48,
   "metadata": {},
   "outputs": [
    {
     "data": {
      "text/plain": [
       "191"
      ]
     },
     "execution_count": 48,
     "metadata": {},
     "output_type": "execute_result"
    }
   ],
   "source": [
    "height"
   ]
  },
  {
   "cell_type": "code",
   "execution_count": 49,
   "metadata": {},
   "outputs": [
    {
     "data": {
      "text/plain": [
       "array([[189, 170, 189, 163, 183, 171, 185, 168, 173, 183, 173, 173, 175,\n",
       "        178, 183, 193, 178, 173, 174, 183, 183, 180, 170, 178, 182, 180,\n",
       "        183, 178, 182, 175, 179, 183, 193, 182, 183, 177, 185, 188, 188,\n",
       "        188, 185, 191,  57,  61],\n",
       "       [ 57,  57,  58,  57,  57,  61,  54,  68,  51,  49,  64,  50,  48,\n",
       "         65,  52,  56,  46,  54,  49,  51,  47,  55,  55,  54,  42,  51,\n",
       "         56,  55,  51,  54,  51,  60,  62,  43,  55,  56,  61,  52,  69,\n",
       "         64,  46,  54,  47,  70]])"
      ]
     },
     "execution_count": 49,
     "metadata": {},
     "output_type": "execute_result"
    }
   ],
   "source": [
    "height_and_ages_arr"
   ]
  },
  {
   "cell_type": "code",
   "execution_count": 53,
   "metadata": {},
   "outputs": [
    {
     "data": {
      "text/plain": [
       "array([[189, 170, 189, 163, 183, 171, 185, 168, 173, 183, 173, 173, 175,\n",
       "        178, 183, 193, 178, 173, 174, 183, 183, 180, 170, 178, 182, 180,\n",
       "        183, 178, 182, 175, 179, 183, 193, 182, 183, 177, 185, 188, 188,\n",
       "        188, 185, 191,  57,  61],\n",
       "       [ 57,  57,  58,  57,  57,  61,  54,  68,  51,  49,  64,  50,  48,\n",
       "         65,  52,  56,  46,  54,  49,  51,  47,  55,  55,  54,  42,  51,\n",
       "         56,  55,  51,  54,  51,  60,  62,  43,  55,  56,  61,  52,  69,\n",
       "         64,  46,  54,  47,  70]])"
      ]
     },
     "execution_count": 53,
     "metadata": {},
     "output_type": "execute_result"
    }
   ],
   "source": [
    "height_and_ages_arr"
   ]
  },
  {
   "cell_type": "code",
   "execution_count": 52,
   "metadata": {},
   "outputs": [
    {
     "data": {
      "text/plain": [
       "array([189, 170, 189, 163, 183, 171, 185, 168, 173, 183, 173, 173, 175,\n",
       "       178, 183, 193, 178, 173, 174, 183, 183, 180, 170, 178, 182, 180,\n",
       "       183, 178, 182, 175, 179, 183, 193, 182, 183, 177, 185, 188, 188,\n",
       "       188, 185, 191,  57,  61])"
      ]
     },
     "execution_count": 52,
     "metadata": {},
     "output_type": "execute_result"
    }
   ],
   "source": [
    "height_and_ages_arr[0,:]"
   ]
  },
  {
   "cell_type": "code",
   "execution_count": 54,
   "metadata": {},
   "outputs": [
    {
     "data": {
      "text/plain": [
       "array([[189, 170],\n",
       "       [ 57,  57]])"
      ]
     },
     "execution_count": 54,
     "metadata": {},
     "output_type": "execute_result"
    }
   ],
   "source": [
    "height_and_ages_arr[:2, :2]"
   ]
  },
  {
   "cell_type": "code",
   "execution_count": 56,
   "metadata": {},
   "outputs": [],
   "source": [
    "height_and_ages_arr[:,0] = [123,43]"
   ]
  },
  {
   "cell_type": "code",
   "execution_count": 57,
   "metadata": {},
   "outputs": [
    {
     "data": {
      "text/plain": [
       "array([[123, 170, 189, 163, 183, 171, 185, 168, 173, 183, 173, 173, 175,\n",
       "        178, 183, 193, 178, 173, 174, 183, 183, 180, 170, 178, 182, 180,\n",
       "        183, 178, 182, 175, 179, 183, 193, 182, 183, 177, 185, 188, 188,\n",
       "        188, 185, 191,  57,  61],\n",
       "       [ 43,  57,  58,  57,  57,  61,  54,  68,  51,  49,  64,  50,  48,\n",
       "         65,  52,  56,  46,  54,  49,  51,  47,  55,  55,  54,  42,  51,\n",
       "         56,  55,  51,  54,  51,  60,  62,  43,  55,  56,  61,  52,  69,\n",
       "         64,  46,  54,  47,  70]])"
      ]
     },
     "execution_count": 57,
     "metadata": {},
     "output_type": "execute_result"
    }
   ],
   "source": [
    "height_and_ages_arr"
   ]
  },
  {
   "cell_type": "code",
   "execution_count": 58,
   "metadata": {},
   "outputs": [],
   "source": [
    "new_record = np.array([[188,190,189,165,180],[58,62,55,68,80]])"
   ]
  },
  {
   "cell_type": "code",
   "execution_count": 59,
   "metadata": {},
   "outputs": [
    {
     "data": {
      "text/plain": [
       "array([[188, 190, 189, 165, 180],\n",
       "       [ 58,  62,  55,  68,  80]])"
      ]
     },
     "execution_count": 59,
     "metadata": {},
     "output_type": "execute_result"
    }
   ],
   "source": [
    "new_record"
   ]
  },
  {
   "cell_type": "code",
   "execution_count": 62,
   "metadata": {},
   "outputs": [
    {
     "data": {
      "text/plain": [
       "(2, 5)"
      ]
     },
     "execution_count": 62,
     "metadata": {},
     "output_type": "execute_result"
    }
   ],
   "source": [
    "new_record.shape"
   ]
  },
  {
   "cell_type": "code",
   "execution_count": 68,
   "metadata": {},
   "outputs": [],
   "source": [
    "height_and_ages_arr[:,:5] = new_record"
   ]
  },
  {
   "cell_type": "code",
   "execution_count": 73,
   "metadata": {},
   "outputs": [],
   "source": [
    "ages_arr = np.array(ages)"
   ]
  },
  {
   "cell_type": "code",
   "execution_count": 74,
   "metadata": {},
   "outputs": [
    {
     "data": {
      "text/plain": [
       "array([57, 61, 57, 57, 58, 57, 57, 61, 54, 68, 51, 49, 64, 50, 48, 65, 52,\n",
       "       56, 46, 54, 49, 51, 47, 55, 55, 54, 42, 51, 56, 55, 51, 54, 51, 60,\n",
       "       62, 43, 55, 56, 61, 52, 69, 64, 46, 54, 47, 70])"
      ]
     },
     "execution_count": 74,
     "metadata": {},
     "output_type": "execute_result"
    }
   ],
   "source": [
    "ages_arr"
   ]
  },
  {
   "cell_type": "code",
   "execution_count": 76,
   "metadata": {},
   "outputs": [
    {
     "data": {
      "text/plain": [
       "(46,)"
      ]
     },
     "execution_count": 76,
     "metadata": {},
     "output_type": "execute_result"
    }
   ],
   "source": [
    "ages_arr.shape"
   ]
  },
  {
   "cell_type": "code",
   "execution_count": 77,
   "metadata": {},
   "outputs": [
    {
     "data": {
      "text/plain": [
       "array([57, 61, 57])"
      ]
     },
     "execution_count": 77,
     "metadata": {},
     "output_type": "execute_result"
    }
   ],
   "source": [
    "ages_arr[:3,]"
   ]
  },
  {
   "cell_type": "code",
   "execution_count": 82,
   "metadata": {},
   "outputs": [],
   "source": [
    "heights_arr = heights_arr.reshape((42,1))\n",
    "ages_arr = ages_arr.reshape((46,1))"
   ]
  },
  {
   "cell_type": "code",
   "execution_count": 83,
   "metadata": {},
   "outputs": [
    {
     "ename": "ValueError",
     "evalue": "all the input array dimensions for the concatenation axis must match exactly, but along dimension 0, the array at index 0 has size 42 and the array at index 1 has size 46",
     "output_type": "error",
     "traceback": [
      "\u001b[0;31m---------------------------------------------------------------------------\u001b[0m",
      "\u001b[0;31mValueError\u001b[0m                                Traceback (most recent call last)",
      "\u001b[1;32mUntitled-1.ipynb Cell 44'\u001b[0m in \u001b[0;36m<cell line: 1>\u001b[0;34m()\u001b[0m\n\u001b[0;32m----> <a href='vscode-notebook-cell:Untitled-1.ipynb?jupyter-notebook#ch0000043untitled?line=0'>1</a>\u001b[0m height_age_arr \u001b[39m=\u001b[39m np\u001b[39m.\u001b[39;49mhstack((heights_arr, ages_arr))\n",
      "File \u001b[0;32m<__array_function__ internals>:180\u001b[0m, in \u001b[0;36mhstack\u001b[0;34m(*args, **kwargs)\u001b[0m\n",
      "File \u001b[0;32m~/.local/lib/python3.10/site-packages/numpy/core/shape_base.py:345\u001b[0m, in \u001b[0;36mhstack\u001b[0;34m(tup)\u001b[0m\n\u001b[1;32m    <a href='file:///home/viktor/.local/lib/python3.10/site-packages/numpy/core/shape_base.py?line=342'>343</a>\u001b[0m     \u001b[39mreturn\u001b[39;00m _nx\u001b[39m.\u001b[39mconcatenate(arrs, \u001b[39m0\u001b[39m)\n\u001b[1;32m    <a href='file:///home/viktor/.local/lib/python3.10/site-packages/numpy/core/shape_base.py?line=343'>344</a>\u001b[0m \u001b[39melse\u001b[39;00m:\n\u001b[0;32m--> <a href='file:///home/viktor/.local/lib/python3.10/site-packages/numpy/core/shape_base.py?line=344'>345</a>\u001b[0m     \u001b[39mreturn\u001b[39;00m _nx\u001b[39m.\u001b[39;49mconcatenate(arrs, \u001b[39m1\u001b[39;49m)\n",
      "File \u001b[0;32m<__array_function__ internals>:180\u001b[0m, in \u001b[0;36mconcatenate\u001b[0;34m(*args, **kwargs)\u001b[0m\n",
      "\u001b[0;31mValueError\u001b[0m: all the input array dimensions for the concatenation axis must match exactly, but along dimension 0, the array at index 0 has size 42 and the array at index 1 has size 46"
     ]
    }
   ],
   "source": [
    "height_age_arr = np.hstack((heights_arr, ages_arr))"
   ]
  },
  {
   "cell_type": "code",
   "execution_count": null,
   "metadata": {},
   "outputs": [],
   "source": []
  }
 ],
 "metadata": {
  "interpreter": {
   "hash": "916dbcbb3f70747c44a77c7bcd40155683ae19c65e1c03b4aa3499c5328201f1"
  },
  "kernelspec": {
   "display_name": "Python 3.10.4 64-bit",
   "language": "python",
   "name": "python3"
  },
  "language_info": {
   "codemirror_mode": {
    "name": "ipython",
    "version": 3
   },
   "file_extension": ".py",
   "mimetype": "text/x-python",
   "name": "python",
   "nbconvert_exporter": "python",
   "pygments_lexer": "ipython3",
   "version": "3.10.4"
  },
  "orig_nbformat": 4
 },
 "nbformat": 4,
 "nbformat_minor": 2
}
