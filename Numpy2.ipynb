{
 "cells": [
  {
   "cell_type": "code",
   "execution_count": 4,
   "metadata": {},
   "outputs": [],
   "source": [
    "import numpy as np"
   ]
  },
  {
   "cell_type": "code",
   "execution_count": 5,
   "metadata": {},
   "outputs": [],
   "source": [
    "heights = [189,170,189,163,183,171,185,168,173,183,173,173,175,178,183,193,178,173,174,183,183,180,170,178,182,180,183,178,182,175,179,183,193,182,183,177,185,188,188,188,185,191,135,123,134,135]"
   ]
  },
  {
   "cell_type": "code",
   "execution_count": 6,
   "metadata": {},
   "outputs": [],
   "source": [
    "heights_arr = np.array(heights)"
   ]
  },
  {
   "cell_type": "code",
   "execution_count": 7,
   "metadata": {},
   "outputs": [
    {
     "data": {
      "text/plain": [
       "array([189, 170, 189, 163, 183, 171, 185, 168, 173, 183, 173, 173, 175,\n",
       "       178, 183, 193, 178, 173, 174, 183, 183, 180, 170, 178, 182, 180,\n",
       "       183, 178, 182, 175, 179, 183, 193, 182, 183, 177, 185, 188, 188,\n",
       "       188, 185, 191, 135, 123, 134, 135])"
      ]
     },
     "execution_count": 7,
     "metadata": {},
     "output_type": "execute_result"
    }
   ],
   "source": [
    "heights_arr"
   ]
  },
  {
   "cell_type": "code",
   "execution_count": 8,
   "metadata": {},
   "outputs": [],
   "source": [
    "heights_arr = np.array(heights)"
   ]
  },
  {
   "cell_type": "code",
   "execution_count": 9,
   "metadata": {},
   "outputs": [
    {
     "data": {
      "text/plain": [
       "array([189, 170, 189, 163, 183, 171, 185, 168, 173, 183, 173, 173, 175,\n",
       "       178, 183, 193, 178, 173, 174, 183, 183, 180, 170, 178, 182, 180,\n",
       "       183, 178, 182, 175, 179, 183, 193, 182, 183, 177, 185, 188, 188,\n",
       "       188, 185, 191, 135, 123, 134, 135])"
      ]
     },
     "execution_count": 9,
     "metadata": {},
     "output_type": "execute_result"
    }
   ],
   "source": [
    "heights_arr"
   ]
  },
  {
   "cell_type": "code",
   "execution_count": 10,
   "metadata": {},
   "outputs": [],
   "source": [
    "heights_arr =heights_arr.reshape((1,46))"
   ]
  },
  {
   "cell_type": "code",
   "execution_count": 11,
   "metadata": {},
   "outputs": [
    {
     "data": {
      "text/plain": [
       "array([[189, 170, 189, 163, 183, 171, 185, 168, 173, 183, 173, 173, 175,\n",
       "        178, 183, 193, 178, 173, 174, 183, 183, 180, 170, 178, 182, 180,\n",
       "        183, 178, 182, 175, 179, 183, 193, 182, 183, 177, 185, 188, 188,\n",
       "        188, 185, 191, 135, 123, 134, 135]])"
      ]
     },
     "execution_count": 11,
     "metadata": {},
     "output_type": "execute_result"
    }
   ],
   "source": [
    "heights_arr"
   ]
  },
  {
   "cell_type": "code",
   "execution_count": 12,
   "metadata": {},
   "outputs": [],
   "source": [
    "ages = [ 57,61,57,57,58, 57, 57, 61, 54, 68, 51, 49, 64, 50, 48, 65, 52, 56, 46, 54, 49, 51, 47, 55, 55, 54, 42, 51, 56, 55, 51, 54, 51, 60, 62, 43, 55, 56, 61, 52, 69, 64, 46, 54, 47, 70]"
   ]
  },
  {
   "cell_type": "code",
   "execution_count": 13,
   "metadata": {},
   "outputs": [],
   "source": [
    "ages_arr = np.array(ages)"
   ]
  },
  {
   "cell_type": "code",
   "execution_count": 14,
   "metadata": {},
   "outputs": [
    {
     "data": {
      "text/plain": [
       "(46,)"
      ]
     },
     "execution_count": 14,
     "metadata": {},
     "output_type": "execute_result"
    }
   ],
   "source": [
    "ages_arr.shape"
   ]
  },
  {
   "cell_type": "code",
   "execution_count": 15,
   "metadata": {},
   "outputs": [
    {
     "data": {
      "text/plain": [
       "array([[57, 61, 57, 57, 58, 57, 57, 61, 54, 68, 51, 49, 64, 50, 48, 65,\n",
       "        52, 56, 46, 54, 49, 51, 47, 55, 55, 54, 42, 51, 56, 55, 51, 54,\n",
       "        51, 60, 62, 43, 55, 56, 61, 52, 69, 64, 46, 54, 47, 70]])"
      ]
     },
     "execution_count": 15,
     "metadata": {},
     "output_type": "execute_result"
    }
   ],
   "source": [
    "ages_arr.reshape((1,46))"
   ]
  },
  {
   "cell_type": "code",
   "execution_count": 16,
   "metadata": {},
   "outputs": [
    {
     "data": {
      "text/plain": [
       "array([[189, 170, 189, 163, 183, 171, 185, 168, 173, 183, 173, 173, 175,\n",
       "        178, 183, 193, 178, 173, 174, 183, 183, 180, 170, 178, 182, 180,\n",
       "        183, 178, 182, 175, 179, 183, 193, 182, 183, 177, 185, 188, 188,\n",
       "        188, 185, 191, 135, 123, 134, 135]])"
      ]
     },
     "execution_count": 16,
     "metadata": {},
     "output_type": "execute_result"
    }
   ],
   "source": [
    "heights_arr"
   ]
  },
  {
   "cell_type": "code",
   "execution_count": 17,
   "metadata": {},
   "outputs": [
    {
     "data": {
      "text/plain": [
       "(1, 46)"
      ]
     },
     "execution_count": 17,
     "metadata": {},
     "output_type": "execute_result"
    }
   ],
   "source": [
    "heights_arr.shape"
   ]
  },
  {
   "cell_type": "code",
   "execution_count": 18,
   "metadata": {},
   "outputs": [
    {
     "data": {
      "text/plain": [
       "array([57, 61, 57, 57, 58, 57, 57, 61, 54, 68, 51, 49, 64, 50, 48, 65, 52,\n",
       "       56, 46, 54, 49, 51, 47, 55, 55, 54, 42, 51, 56, 55, 51, 54, 51, 60,\n",
       "       62, 43, 55, 56, 61, 52, 69, 64, 46, 54, 47, 70])"
      ]
     },
     "execution_count": 18,
     "metadata": {},
     "output_type": "execute_result"
    }
   ],
   "source": [
    "ages_arr"
   ]
  },
  {
   "cell_type": "code",
   "execution_count": 19,
   "metadata": {},
   "outputs": [
    {
     "data": {
      "text/plain": [
       "(46,)"
      ]
     },
     "execution_count": 19,
     "metadata": {},
     "output_type": "execute_result"
    }
   ],
   "source": [
    "ages_arr.shape"
   ]
  },
  {
   "cell_type": "code",
   "execution_count": 20,
   "metadata": {},
   "outputs": [
    {
     "data": {
      "text/plain": [
       "array([[57, 61, 57, 57, 58, 57, 57, 61, 54, 68, 51, 49, 64, 50, 48, 65,\n",
       "        52, 56, 46, 54, 49, 51, 47, 55, 55, 54, 42, 51, 56, 55, 51, 54,\n",
       "        51, 60, 62, 43, 55, 56, 61, 52, 69, 64, 46, 54, 47, 70]])"
      ]
     },
     "execution_count": 20,
     "metadata": {},
     "output_type": "execute_result"
    }
   ],
   "source": [
    "ages_arr.reshape((1,46))"
   ]
  },
  {
   "cell_type": "code",
   "execution_count": 21,
   "metadata": {},
   "outputs": [
    {
     "data": {
      "text/plain": [
       "(46,)"
      ]
     },
     "execution_count": 21,
     "metadata": {},
     "output_type": "execute_result"
    }
   ],
   "source": [
    "ages_arr.shape"
   ]
  },
  {
   "cell_type": "code",
   "execution_count": 22,
   "metadata": {},
   "outputs": [
    {
     "data": {
      "text/plain": [
       "(1, 46)"
      ]
     },
     "execution_count": 22,
     "metadata": {},
     "output_type": "execute_result"
    }
   ],
   "source": [
    "heights_arr.shape"
   ]
  },
  {
   "cell_type": "code",
   "execution_count": 23,
   "metadata": {},
   "outputs": [
    {
     "data": {
      "text/plain": [
       "array([[189, 170, 189, 163, 183, 171, 185, 168, 173, 183, 173, 173, 175,\n",
       "        178, 183, 193, 178, 173, 174, 183, 183, 180, 170, 178, 182, 180,\n",
       "        183, 178, 182, 175, 179, 183, 193, 182, 183, 177, 185, 188, 188,\n",
       "        188, 185, 191, 135, 123, 134, 135]])"
      ]
     },
     "execution_count": 23,
     "metadata": {},
     "output_type": "execute_result"
    }
   ],
   "source": [
    "heights_arr"
   ]
  },
  {
   "cell_type": "code",
   "execution_count": 24,
   "metadata": {},
   "outputs": [
    {
     "data": {
      "text/plain": [
       "array([57, 61, 57, 57, 58, 57, 57, 61, 54, 68, 51, 49, 64, 50, 48, 65, 52,\n",
       "       56, 46, 54, 49, 51, 47, 55, 55, 54, 42, 51, 56, 55, 51, 54, 51, 60,\n",
       "       62, 43, 55, 56, 61, 52, 69, 64, 46, 54, 47, 70])"
      ]
     },
     "execution_count": 24,
     "metadata": {},
     "output_type": "execute_result"
    }
   ],
   "source": [
    "ages_arr"
   ]
  },
  {
   "cell_type": "code",
   "execution_count": 25,
   "metadata": {},
   "outputs": [
    {
     "data": {
      "text/plain": [
       "array([[57, 61, 57, 57, 58, 57, 57, 61, 54, 68, 51, 49, 64, 50, 48, 65,\n",
       "        52, 56, 46, 54, 49, 51, 47, 55, 55, 54, 42, 51, 56, 55, 51, 54,\n",
       "        51, 60, 62, 43, 55, 56, 61, 52, 69, 64, 46, 54, 47, 70]])"
      ]
     },
     "execution_count": 25,
     "metadata": {},
     "output_type": "execute_result"
    }
   ],
   "source": [
    "ages_arr.reshape((1,46))"
   ]
  },
  {
   "cell_type": "code",
   "execution_count": 26,
   "metadata": {},
   "outputs": [
    {
     "data": {
      "text/plain": [
       "array([57, 61, 57, 57, 58, 57, 57, 61, 54, 68, 51, 49, 64, 50, 48, 65, 52,\n",
       "       56, 46, 54, 49, 51, 47, 55, 55, 54, 42, 51, 56, 55, 51, 54, 51, 60,\n",
       "       62, 43, 55, 56, 61, 52, 69, 64, 46, 54, 47, 70])"
      ]
     },
     "execution_count": 26,
     "metadata": {},
     "output_type": "execute_result"
    }
   ],
   "source": [
    "ages_arr"
   ]
  },
  {
   "cell_type": "code",
   "execution_count": 27,
   "metadata": {},
   "outputs": [],
   "source": [
    "ages_arr = ages_arr.reshape(1,46)"
   ]
  },
  {
   "cell_type": "code",
   "execution_count": 28,
   "metadata": {},
   "outputs": [
    {
     "data": {
      "text/plain": [
       "array([[57, 61, 57, 57, 58, 57, 57, 61, 54, 68, 51, 49, 64, 50, 48, 65,\n",
       "        52, 56, 46, 54, 49, 51, 47, 55, 55, 54, 42, 51, 56, 55, 51, 54,\n",
       "        51, 60, 62, 43, 55, 56, 61, 52, 69, 64, 46, 54, 47, 70]])"
      ]
     },
     "execution_count": 28,
     "metadata": {},
     "output_type": "execute_result"
    }
   ],
   "source": [
    "ages_arr"
   ]
  },
  {
   "cell_type": "code",
   "execution_count": 29,
   "metadata": {},
   "outputs": [],
   "source": [
    "height_age_arr = np.hstack((heights_arr, ages_arr))"
   ]
  },
  {
   "cell_type": "code",
   "execution_count": 30,
   "metadata": {},
   "outputs": [
    {
     "data": {
      "text/plain": [
       "array([[189, 170, 189, 163, 183, 171, 185, 168, 173, 183, 173, 173, 175,\n",
       "        178, 183, 193, 178, 173, 174, 183, 183, 180, 170, 178, 182, 180,\n",
       "        183, 178, 182, 175, 179, 183, 193, 182, 183, 177, 185, 188, 188,\n",
       "        188, 185, 191, 135, 123, 134, 135,  57,  61,  57,  57,  58,  57,\n",
       "         57,  61,  54,  68,  51,  49,  64,  50,  48,  65,  52,  56,  46,\n",
       "         54,  49,  51,  47,  55,  55,  54,  42,  51,  56,  55,  51,  54,\n",
       "         51,  60,  62,  43,  55,  56,  61,  52,  69,  64,  46,  54,  47,\n",
       "         70]])"
      ]
     },
     "execution_count": 30,
     "metadata": {},
     "output_type": "execute_result"
    }
   ],
   "source": [
    "height_age_arr"
   ]
  },
  {
   "cell_type": "code",
   "execution_count": 31,
   "metadata": {},
   "outputs": [],
   "source": [
    "height_age_arr = np.vstack((heights_arr, ages_arr))"
   ]
  },
  {
   "cell_type": "code",
   "execution_count": 32,
   "metadata": {},
   "outputs": [
    {
     "data": {
      "text/plain": [
       "array([[189, 170, 189, 163, 183, 171, 185, 168, 173, 183, 173, 173, 175,\n",
       "        178, 183, 193, 178, 173, 174, 183, 183, 180, 170, 178, 182, 180,\n",
       "        183, 178, 182, 175, 179, 183, 193, 182, 183, 177, 185, 188, 188,\n",
       "        188, 185, 191, 135, 123, 134, 135],\n",
       "       [ 57,  61,  57,  57,  58,  57,  57,  61,  54,  68,  51,  49,  64,\n",
       "         50,  48,  65,  52,  56,  46,  54,  49,  51,  47,  55,  55,  54,\n",
       "         42,  51,  56,  55,  51,  54,  51,  60,  62,  43,  55,  56,  61,\n",
       "         52,  69,  64,  46,  54,  47,  70]])"
      ]
     },
     "execution_count": 32,
     "metadata": {},
     "output_type": "execute_result"
    }
   ],
   "source": [
    "height_age_arr"
   ]
  },
  {
   "cell_type": "code",
   "execution_count": 33,
   "metadata": {},
   "outputs": [
    {
     "data": {
      "text/plain": [
       "(2, 46)"
      ]
     },
     "execution_count": 33,
     "metadata": {},
     "output_type": "execute_result"
    }
   ],
   "source": [
    "height_age_arr.shape"
   ]
  },
  {
   "cell_type": "code",
   "execution_count": 34,
   "metadata": {},
   "outputs": [
    {
     "data": {
      "text/plain": [
       "array([[189, 170, 189],\n",
       "       [ 57,  61,  57]])"
      ]
     },
     "execution_count": 34,
     "metadata": {},
     "output_type": "execute_result"
    }
   ],
   "source": [
    "height_age_arr[:,:3]"
   ]
  },
  {
   "cell_type": "code",
   "execution_count": 35,
   "metadata": {},
   "outputs": [],
   "source": [
    "height_age_arr = np.concatenate((heights_arr, ages_arr), axis = 1)"
   ]
  },
  {
   "cell_type": "code",
   "execution_count": 36,
   "metadata": {},
   "outputs": [
    {
     "data": {
      "text/plain": [
       "array([[189, 170, 189, 163, 183, 171, 185, 168, 173, 183, 173, 173, 175,\n",
       "        178, 183, 193, 178, 173, 174, 183, 183, 180, 170, 178, 182, 180,\n",
       "        183, 178, 182, 175, 179, 183, 193, 182, 183, 177, 185, 188, 188,\n",
       "        188, 185, 191, 135, 123, 134, 135,  57,  61,  57,  57,  58,  57,\n",
       "         57,  61,  54,  68,  51,  49,  64,  50,  48,  65,  52,  56,  46,\n",
       "         54,  49,  51,  47,  55,  55,  54,  42,  51,  56,  55,  51,  54,\n",
       "         51,  60,  62,  43,  55,  56,  61,  52,  69,  64,  46,  54,  47,\n",
       "         70]])"
      ]
     },
     "execution_count": 36,
     "metadata": {},
     "output_type": "execute_result"
    }
   ],
   "source": [
    "height_age_arr"
   ]
  },
  {
   "cell_type": "code",
   "execution_count": 37,
   "metadata": {},
   "outputs": [],
   "source": [
    "height_age_arr = np.concatenate((heights_arr, ages_arr), axis = 0)"
   ]
  },
  {
   "cell_type": "code",
   "execution_count": 38,
   "metadata": {},
   "outputs": [
    {
     "data": {
      "text/plain": [
       "array([[189, 170, 189, 163, 183, 171, 185, 168, 173, 183, 173, 173, 175,\n",
       "        178, 183, 193, 178, 173, 174, 183, 183, 180, 170, 178, 182, 180,\n",
       "        183, 178, 182, 175, 179, 183, 193, 182, 183, 177, 185, 188, 188,\n",
       "        188, 185, 191, 135, 123, 134, 135],\n",
       "       [ 57,  61,  57,  57,  58,  57,  57,  61,  54,  68,  51,  49,  64,\n",
       "         50,  48,  65,  52,  56,  46,  54,  49,  51,  47,  55,  55,  54,\n",
       "         42,  51,  56,  55,  51,  54,  51,  60,  62,  43,  55,  56,  61,\n",
       "         52,  69,  64,  46,  54,  47,  70]])"
      ]
     },
     "execution_count": 38,
     "metadata": {},
     "output_type": "execute_result"
    }
   ],
   "source": [
    "height_age_arr"
   ]
  },
  {
   "cell_type": "code",
   "execution_count": 39,
   "metadata": {},
   "outputs": [
    {
     "data": {
      "text/plain": [
       "10629"
      ]
     },
     "execution_count": 39,
     "metadata": {},
     "output_type": "execute_result"
    }
   ],
   "source": [
    "height_age_arr.sum()"
   ]
  },
  {
   "cell_type": "code",
   "execution_count": 40,
   "metadata": {},
   "outputs": [
    {
     "data": {
      "text/plain": [
       "array([246, 231, 246, 220, 241, 228, 242, 229, 227, 251, 224, 222, 239,\n",
       "       228, 231, 258, 230, 229, 220, 237, 232, 231, 217, 233, 237, 234,\n",
       "       225, 229, 238, 230, 230, 237, 244, 242, 245, 220, 240, 244, 249,\n",
       "       240, 254, 255, 181, 177, 181, 205])"
      ]
     },
     "execution_count": 40,
     "metadata": {},
     "output_type": "execute_result"
    }
   ],
   "source": [
    "height_age_arr.sum(axis = 0)"
   ]
  },
  {
   "cell_type": "code",
   "execution_count": 41,
   "metadata": {},
   "outputs": [
    {
     "data": {
      "text/plain": [
       "array([[189, 170, 189, 163, 183, 171, 185, 168, 173, 183, 173, 173, 175,\n",
       "        178, 183, 193, 178, 173, 174, 183, 183, 180, 170, 178, 182, 180,\n",
       "        183, 178, 182, 175, 179, 183, 193, 182, 183, 177, 185, 188, 188,\n",
       "        188, 185, 191, 135, 123, 134, 135],\n",
       "       [ 57,  61,  57,  57,  58,  57,  57,  61,  54,  68,  51,  49,  64,\n",
       "         50,  48,  65,  52,  56,  46,  54,  49,  51,  47,  55,  55,  54,\n",
       "         42,  51,  56,  55,  51,  54,  51,  60,  62,  43,  55,  56,  61,\n",
       "         52,  69,  64,  46,  54,  47,  70]])"
      ]
     },
     "execution_count": 41,
     "metadata": {},
     "output_type": "execute_result"
    }
   ],
   "source": [
    "height_age_arr"
   ]
  },
  {
   "cell_type": "code",
   "execution_count": 44,
   "metadata": {},
   "outputs": [
    {
     "data": {
      "text/plain": [
       "array([False, False])"
      ]
     },
     "execution_count": 44,
     "metadata": {},
     "output_type": "execute_result"
    }
   ],
   "source": [
    "height_age_arr[:,1] < 51"
   ]
  },
  {
   "cell_type": "code",
   "execution_count": 45,
   "metadata": {},
   "outputs": [],
   "source": [
    "#masking\n",
    "mask = height_age_arr[:,0] >= 182"
   ]
  },
  {
   "cell_type": "code",
   "execution_count": 46,
   "metadata": {},
   "outputs": [
    {
     "data": {
      "text/plain": [
       "array([[189, 170, 189, 163, 183, 171, 185, 168, 173, 183, 173, 173, 175,\n",
       "        178, 183, 193, 178, 173, 174, 183, 183, 180, 170, 178, 182, 180,\n",
       "        183, 178, 182, 175, 179, 183, 193, 182, 183, 177, 185, 188, 188,\n",
       "        188, 185, 191, 135, 123, 134, 135],\n",
       "       [ 57,  61,  57,  57,  58,  57,  57,  61,  54,  68,  51,  49,  64,\n",
       "         50,  48,  65,  52,  56,  46,  54,  49,  51,  47,  55,  55,  54,\n",
       "         42,  51,  56,  55,  51,  54,  51,  60,  62,  43,  55,  56,  61,\n",
       "         52,  69,  64,  46,  54,  47,  70]])"
      ]
     },
     "execution_count": 46,
     "metadata": {},
     "output_type": "execute_result"
    }
   ],
   "source": [
    "height_age_arr"
   ]
  },
  {
   "cell_type": "code",
   "execution_count": 47,
   "metadata": {},
   "outputs": [
    {
     "data": {
      "text/plain": [
       "array([ True, False])"
      ]
     },
     "execution_count": 47,
     "metadata": {},
     "output_type": "execute_result"
    }
   ],
   "source": [
    "mask"
   ]
  },
  {
   "cell_type": "code",
   "execution_count": 48,
   "metadata": {},
   "outputs": [
    {
     "data": {
      "text/plain": [
       "1"
      ]
     },
     "execution_count": 48,
     "metadata": {},
     "output_type": "execute_result"
    }
   ],
   "source": [
    "mask.sum()"
   ]
  },
  {
   "cell_type": "code",
   "execution_count": 49,
   "metadata": {},
   "outputs": [],
   "source": [
    "tall_presidents = height_age_arr[mask,]"
   ]
  },
  {
   "cell_type": "code",
   "execution_count": 50,
   "metadata": {},
   "outputs": [
    {
     "data": {
      "text/plain": [
       "(1, 46)"
      ]
     },
     "execution_count": 50,
     "metadata": {},
     "output_type": "execute_result"
    }
   ],
   "source": [
    "tall_presidents.shape"
   ]
  },
  {
   "cell_type": "code",
   "execution_count": 56,
   "metadata": {},
   "outputs": [
    {
     "data": {
      "text/plain": [
       "array([[189, 170, 189, 163, 183, 171, 185, 168, 173, 183, 173, 173, 175,\n",
       "        178, 183, 193, 178, 173, 174, 183, 183, 180, 170, 178, 182, 180,\n",
       "        183, 178, 182, 175, 179, 183, 193, 182, 183, 177, 185, 188, 188,\n",
       "        188, 185, 191, 135, 123, 134, 135]])"
      ]
     },
     "execution_count": 56,
     "metadata": {},
     "output_type": "execute_result"
    }
   ],
   "source": [
    "#multiple criteria\n",
    "mask = (height_age_arr[:,0]>=182) | (height_age_arr[:,1] <= 50)\n",
    "height_age_arr[mask,]"
   ]
  },
  {
   "cell_type": "code",
   "execution_count": 57,
   "metadata": {},
   "outputs": [
    {
     "data": {
      "text/plain": [
       "array([ True, False])"
      ]
     },
     "execution_count": 57,
     "metadata": {},
     "output_type": "execute_result"
    }
   ],
   "source": [
    "mask"
   ]
  },
  {
   "cell_type": "code",
   "execution_count": 54,
   "metadata": {},
   "outputs": [
    {
     "data": {
      "text/plain": [
       "array([ True, False])"
      ]
     },
     "execution_count": 54,
     "metadata": {},
     "output_type": "execute_result"
    }
   ],
   "source": [
    "height_age_arr[:,0]>= 182"
   ]
  },
  {
   "cell_type": "code",
   "execution_count": 55,
   "metadata": {},
   "outputs": [
    {
     "data": {
      "text/plain": [
       "array([False, False])"
      ]
     },
     "execution_count": 55,
     "metadata": {},
     "output_type": "execute_result"
    }
   ],
   "source": [
    "height_age_arr[:,1] <= 50"
   ]
  },
  {
   "cell_type": "code",
   "execution_count": null,
   "metadata": {},
   "outputs": [],
   "source": []
  }
 ],
 "metadata": {
  "interpreter": {
   "hash": "916dbcbb3f70747c44a77c7bcd40155683ae19c65e1c03b4aa3499c5328201f1"
  },
  "kernelspec": {
   "display_name": "Python 3.10.4 64-bit",
   "language": "python",
   "name": "python3"
  },
  "language_info": {
   "codemirror_mode": {
    "name": "ipython",
    "version": 3
   },
   "file_extension": ".py",
   "mimetype": "text/x-python",
   "name": "python",
   "nbconvert_exporter": "python",
   "pygments_lexer": "ipython3",
   "version": "3.10.4"
  },
  "orig_nbformat": 4
 },
 "nbformat": 4,
 "nbformat_minor": 2
}
